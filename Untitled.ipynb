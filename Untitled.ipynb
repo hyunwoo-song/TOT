{
 "cells": [
  {
   "cell_type": "markdown",
   "metadata": {},
   "source": []
  },
  {
   "cell_type": "code",
   "execution_count": 9,
   "metadata": {},
   "outputs": [
    {
     "name": "stdout",
     "output_type": "stream",
     "text": [
      "3\n",
      "3\n",
      "10 7 6\n",
      "#1 0\n",
      "3\n",
      "3 5 9\n",
      "#2 10\n",
      "5\n",
      "1 1 3 1 2\n",
      "#3 5\n"
     ]
    }
   ],
   "source": [
    "for i in range(int(input())):\n",
    "    a=int(input())\n",
    "    b=list(map(int,input().split()))\n",
    "    m=b[-1]\n",
    "    c=0\n",
    "    for j in range(a-1,-1,-1):\n",
    "        if b[j]>m:\n",
    "            m=b[j]\n",
    "        else:\n",
    "            c+=m-b[j]\n",
    "    print(f'#{i+1} {c}')"
   ]
  },
  {
   "cell_type": "code",
   "execution_count": 5,
   "metadata": {},
   "outputs": [
    {
     "ename": "SyntaxError",
     "evalue": "invalid syntax (<ipython-input-5-132f7a48cb13>, line 6)",
     "output_type": "error",
     "traceback": [
      "\u001b[1;36m  File \u001b[1;32m\"<ipython-input-5-132f7a48cb13>\"\u001b[1;36m, line \u001b[1;32m6\u001b[0m\n\u001b[1;33m    for j in range(1, len(a[i+1:])+1 )\u001b[0m\n\u001b[1;37m                                      ^\u001b[0m\n\u001b[1;31mSyntaxError\u001b[0m\u001b[1;31m:\u001b[0m invalid syntax\n"
     ]
    }
   ],
   "source": [
    "T = int(input())\n",
    "for n in range(T):\n",
    "    N = int(input())\n",
    "    a = list(map(int, input().split()))\n",
    "    for i in range(len(a)-1):\n",
    "        z= []\n",
    "        result = 0\n",
    "        for j in range(1, len(a[i+1:])+1):\n",
    "            if a[i] < a[i+j]:\n",
    "                z += [a[i+j]-a[i]]\n",
    "                z.sort()\n",
    "                result = z[-1]\n",
    "        result += result\n",
    "        \n",
    "        print(f'#{i+1} {result}')\n",
    "                \n",
    "    \n",
    "    \n",
    "    \n",
    "    \n",
    "#     f=0\n",
    "#     for i in range(len(a)-1):\n",
    "#         z= []\n",
    "#         for j in range(1, len(a[i+1:])+1):\n",
    "#             result =0 \n",
    "#             if a[i] < a[i+j]:\n",
    "#                 z += [a[i+j]-a[i]]\n",
    "#                 z.sort()\n",
    "#                 result = z[-1]\n",
    "#         f += result\n",
    "        \n",
    "#         print(f'#{i+1} {result}')"
   ]
  },
  {
   "cell_type": "code",
   "execution_count": 7,
   "metadata": {},
   "outputs": [
    {
     "name": "stdout",
     "output_type": "stream",
     "text": [
      "[6]\n",
      "[]\n",
      "[]\n",
      "[]\n",
      "[]\n",
      "[]\n"
     ]
    }
   ],
   "source": [
    "T = int(input())\n",
    "for n in range(T):\n",
    "    a=int(input())\n",
    "    b=list(map(int,input().split()))\n",
    "    m=b[-1]\n",
    "    c=0\n",
    "    for j in range(a-1,-1,-1):\n",
    "        if b[j]>m:\n",
    "            m=b[j]\n",
    "        else:\n",
    "            c+=m-b[j]\n",
    "    print(f'#{i+1} {c}')"
   ]
  },
  {
   "cell_type": "code",
   "execution_count": null,
   "metadata": {},
   "outputs": [],
   "source": []
  }
 ],
 "metadata": {
  "kernelspec": {
   "display_name": "Python 3",
   "language": "python",
   "name": "python3"
  },
  "language_info": {
   "codemirror_mode": {
    "name": "ipython",
    "version": 3
   },
   "file_extension": ".py",
   "mimetype": "text/x-python",
   "name": "python",
   "nbconvert_exporter": "python",
   "pygments_lexer": "ipython3",
   "version": "3.7.1"
  }
 },
 "nbformat": 4,
 "nbformat_minor": 2
}
